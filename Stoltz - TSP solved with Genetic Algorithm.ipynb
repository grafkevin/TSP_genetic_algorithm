{
 "cells": [
  {
   "cell_type": "markdown",
   "metadata": {},
   "source": [
    "This code will follow this order:\n",
    "1. Create initial population\n",
    "2. Rank individuals by its fitness\n",
    "3. Create mating pool\n",
    "4. Crossover\n",
    "5. Mutate\n",
    "6. Repeat\n",
    "\n",
    "Based on the code by Eric Stoltz:\n",
    "https://towardsdatascience.com/evolution-of-a-salesman-a-complete-genetic-algorithm-tutorial-for-python-6fe5d2b3ca35"
   ]
  },
  {
   "cell_type": "code",
   "execution_count": 165,
   "metadata": {},
   "outputs": [],
   "source": [
    "import numpy as np, random, operator, pandas as pd, matplotlib.pyplot as plt\n",
    "from os import path"
   ]
  },
  {
   "cell_type": "markdown",
   "metadata": {},
   "source": [
    "## Create necessary classes and functions\n",
    "\n",
    "Create class to handle \"cities\""
   ]
  },
  {
   "cell_type": "code",
   "execution_count": 166,
   "metadata": {},
   "outputs": [],
   "source": [
    "class City:\n",
    "    def __init__(self, x, y):\n",
    "        self.x = x\n",
    "        self.y = y\n",
    "    \n",
    "    def distance(self, city):\n",
    "        xDis = abs(self.x - city.x)\n",
    "        yDis = abs(self.y - city.y)\n",
    "        distance = np.sqrt((xDis ** 2) + (yDis ** 2))\n",
    "        return distance\n",
    "    \n",
    "    def __repr__(self):\n",
    "        return \"(\" + str(self.x) + \",\" + str(self.y) + \")\""
   ]
  },
  {
   "cell_type": "markdown",
   "metadata": {},
   "source": [
    "Create a fitness function"
   ]
  },
  {
   "cell_type": "code",
   "execution_count": 167,
   "metadata": {},
   "outputs": [],
   "source": [
    "class Fitness:\n",
    "    def __init__(self, route):\n",
    "        self.route = route\n",
    "        self.distance = 0\n",
    "        self.fitness = 0.0\n",
    "    \n",
    "    def routeDistance(self):\n",
    "        if self.distance == 0:\n",
    "            pathDistance = 0\n",
    "            for i in range(0, len(self.route)):\n",
    "                fromCity = self.route[i]\n",
    "                toCity = None\n",
    "                # z.B. Route besteht aus 10 Städten, also stoppt Schleife bei i=9\n",
    "                if i + 1 < len(self.route): \n",
    "                    toCity = self.route[i + 1]\n",
    "                else: # Rückkehr zum Ausgangspunkt\n",
    "                    toCity = self.route[0]\n",
    "                pathDistance += fromCity.distance(toCity)\n",
    "            self.distance = pathDistance\n",
    "        return self.distance\n",
    "    \n",
    "    def routeFitness(self):\n",
    "        if self.fitness == 0:\n",
    "            self.fitness = 1 / float(self.routeDistance())\n",
    "        return self.fitness"
   ]
  },
  {
   "cell_type": "markdown",
   "metadata": {},
   "source": [
    "# 1. Create our initial population\n",
    "Route generator"
   ]
  },
  {
   "cell_type": "code",
   "execution_count": 168,
   "metadata": {},
   "outputs": [],
   "source": [
    "def createRoute(cityList):\n",
    "    route = random.sample(cityList, len(cityList))\n",
    "    return route\n",
    "\n",
    "def initialPopulation(popSize, cityList):\n",
    "    population = []\n",
    "    for i in range(0, popSize):\n",
    "        population.append(createRoute(cityList))\n",
    "    return population"
   ]
  },
  {
   "cell_type": "markdown",
   "metadata": {},
   "source": [
    "# 2. Rank routes by its fitness\n",
    "Rank individuals"
   ]
  },
  {
   "cell_type": "code",
   "execution_count": 169,
   "metadata": {},
   "outputs": [],
   "source": [
    "def rankRoutes(population):\n",
    "    fitnessResults = {}\n",
    "    for i in range(0,len(population)):\n",
    "        fitnessResults[i] = Fitness(population[i]).routeFitness()\n",
    "    return sorted(fitnessResults.items(), key = operator.itemgetter(1), reverse = True)"
   ]
  },
  {
   "cell_type": "markdown",
   "metadata": {},
   "source": [
    "# 3. Create the mating pool\n",
    "Create a selection function to list parent routes - selectionResults will output only RouteIDs, not the routes themselves"
   ]
  },
  {
   "cell_type": "code",
   "execution_count": 170,
   "metadata": {},
   "outputs": [],
   "source": [
    "def selection(popRanked, eliteSize): # Was für ein Datentyp ist popRanked?\n",
    "    selectionResults = []\n",
    "    df = pd.DataFrame(np.array(popRanked), columns=[\"Index\",\"Fitness\"])\n",
    "    df['cum_sum'] = df.Fitness.cumsum()\n",
    "    df['cum_perc'] = 100*df.cum_sum/df.Fitness.sum()\n",
    "    \n",
    "    for i in range(0, eliteSize): # Elite: Die besten Individuen kommen in die nächste Generation \n",
    "        selectionResults.append(popRanked[i][0])\n",
    "    for i in range(0, len(popRanked) - eliteSize): # Roulette-Auswahl der Kindergeneration\n",
    "        pick = 100*random.random() # zufällige Zahl 0-100; Roulette-Rad\n",
    "        for i in range(0, len(popRanked)):\n",
    "            if pick <= df.iat[i,3]: # z.B. pick=30 und cum_sum=50, dann wird Individuum in popRanked hinzugefügt\n",
    "                selectionResults.append(popRanked[i][0])\n",
    "                break # Gehe aus der for-Schleife raus und pick eine neue zufällige Zahl\n",
    "    return selectionResults"
   ]
  },
  {
   "cell_type": "markdown",
   "metadata": {},
   "source": [
    "Create mating pool from the RouteIDs from selectionResults"
   ]
  },
  {
   "cell_type": "code",
   "execution_count": 171,
   "metadata": {},
   "outputs": [],
   "source": [
    "def matingPool(population, selectionResults):\n",
    "    matingpool = []\n",
    "    for i in range(0, len(selectionResults)):\n",
    "        index = selectionResults[i] #\n",
    "        matingpool.append(population[index])\n",
    "    return matingpool"
   ]
  },
  {
   "attachments": {
    "grafik.png": {
     "image/png": "[encoded data removed]"
    }
   },
   "cell_type": "markdown",
   "metadata": {},
   "source": [
    "# 4. Breed (Crossover)\n",
    "Create a crossover function for two parents to create one child\n",
    "\n",
    "With our mating pool created, we can create the next generation in a process called crossover (aka “breeding”). If our individuals were strings of 0s and 1s and our two rules didn’t apply (e.g., imagine we were deciding whether or not to include a stock in a portfolio), we could simply pick a crossover point and splice the two strings together to produce an offspring.\n",
    "\n",
    "However, the TSP is unique in that we need to include all locations exactly one time. To abide by this rule, we can use a special breeding function called ordered crossover. In ordered crossover, we randomly select a subset of the first parent string (see line 12 in breed function below) and then fill the remainder of the route with the genes from the second parent in the order in which they appear, without duplicating any genes in the selected subset from the first parent (see line 15 in breed function below).\n",
    "\n",
    "                                    Parents\n",
    "![grafik.png](attachment:grafik.png)\n",
    "\n",
    "                                    Offspring\n",
    "![grafik.png](attachment:grafik.png)"
   ]
  },
  {
   "cell_type": "code",
   "execution_count": 172,
   "metadata": {},
   "outputs": [],
   "source": [
    "def breed(parent1, parent2):\n",
    "    child = []\n",
    "    childP1 = [] # Steht P für parent oder part?\n",
    "    childP2 = [] # Was ist die Länge von childP1 und P2? Wie viel Kinder pro Elternpaar?\n",
    "    \n",
    "    geneA = int(random.random() * len(parent1)) # z.B. n=15 Städte, dann random(0.5)*15=7.5 --> int=8\n",
    "    geneB = int(random.random() * len(parent1)) # z.B randon(0.1)*15=1.5 --> int=2\n",
    "    \n",
    "    startGene = min(geneA, geneB) # 2\n",
    "    endGene = max(geneA, geneB) # 8\n",
    "\n",
    "    for i in range(startGene, endGene): # von 2 bis 8\n",
    "        childP1.append(parent1[i]) # Füge dem Kind von Stelle 2 bis 8 die Städte-Reihenfolge aus Parent1\n",
    "        \n",
    "    childP2 = [item for item in parent2 if item not in childP1]\n",
    "\n",
    "    child = childP1 + childP2\n",
    "    return child"
   ]
  },
  {
   "cell_type": "code",
   "execution_count": 173,
   "metadata": {},
   "outputs": [],
   "source": [
    "def breedPopulation(matingpool, eliteSize):\n",
    "    children = []\n",
    "    length = len(matingpool) - eliteSize # z.B. 100 Indiviuen, 20 Eliten\n",
    "    pool = random.sample(matingpool, len(matingpool)) # 100 Stichproben aus dem Matingpool\n",
    "\n",
    "    for i in range(0,eliteSize): # Die 20 besten Individuen kommen in die Kinder-Generation\n",
    "        children.append(matingpool[i])\n",
    "    \n",
    "    for i in range(0, length): # von 0 bis 80\n",
    "        child = breed(pool[i], pool[len(matingpool)-i-1]) # parent1[0] und parent2[80-0-1] \n",
    "        children.append(child)\n",
    "    return children"
   ]
  },
  {
   "cell_type": "markdown",
   "metadata": {},
   "source": [
    "# 5. Mutate"
   ]
  },
  {
   "cell_type": "code",
   "execution_count": 174,
   "metadata": {},
   "outputs": [],
   "source": [
    "def mutate(individual, mutationRate):\n",
    "    for swapped in range(len(individual)): # Ein Individuum ist 15 Städte lang\n",
    "        if(random.random() < mutationRate): # Wenn random kleiner als 0.05, dann swap\n",
    "            swapWith = int(random.random() * len(individual)) # z.B. 0.33*15=5\n",
    "            \n",
    "            city1 = individual[swapped] # swapped von 0 bis 15, hier 0\n",
    "            city2 = individual[swapWith] # swappen mit 5\n",
    "            \n",
    "            individual[swapped] = city2 # city2 ist jetzt Stadt 0\n",
    "            individual[swapWith] = city1 # city1 ist jetzt Stadt 5 im Individuum X\n",
    "    return individual"
   ]
  },
  {
   "cell_type": "code",
   "execution_count": 175,
   "metadata": {},
   "outputs": [],
   "source": [
    "def mutatePopulation(population, mutationRate):\n",
    "    mutatedPop = []\n",
    "    \n",
    "    for ind in range(0, len(population)): # Population ist 100 Individuen groß\n",
    "        mutatedInd = mutate(population[ind], mutationRate)\n",
    "        mutatedPop.append(mutatedInd)\n",
    "    return mutatedPop"
   ]
  },
  {
   "cell_type": "markdown",
   "metadata": {},
   "source": [
    "# 6. Repeat \n",
    "# Plot route, distance and progress together"
   ]
  },
  {
   "cell_type": "code",
   "execution_count": 176,
   "metadata": {},
   "outputs": [],
   "source": [
    "def nextGeneration(currentGen, eliteSize, mutationRate):\n",
    "    popRanked = rankRoutes(currentGen)\n",
    "    selectionResults = selection(popRanked, eliteSize)\n",
    "    matingpool = matingPool(currentGen, selectionResults)\n",
    "    children = breedPopulation(matingpool, eliteSize)\n",
    "    nextGeneration = mutatePopulation(children, mutationRate)\n",
    "    return nextGeneration"
   ]
  },
  {
   "cell_type": "code",
   "execution_count": 323,
   "metadata": {},
   "outputs": [],
   "source": [
    "def geneticAlgorithm(population, popSize, eliteSize, mutationRate, generations):\n",
    "    pop = initialPopulation(popSize, population)\n",
    "    print(\"Initial distance: \" + str(1 / rankRoutes(pop)[0][1])) \n",
    "    # rankRoutes(pop) gibt eine Liste mit den 100 Individuen mit Indexnummer und Fitnesswert aus\n",
    "    outpath = \"C:/Users/Kevin/Desktop/Masterarbeit/Python Code/plots\"\n",
    "    fig, ax = plt.subplots()\n",
    "    ax.set_xlim(0,200)\n",
    "    ax.set_ylim(0,200)\n",
    "    \n",
    "    # Plot best route for each generation \n",
    "    for i in range(0, generations):\n",
    "        pop = nextGeneration(pop, eliteSize, mutationRate)\n",
    "        #print(\"Final distance: \" + str(1 / rankRoutes(pop)[0][1]))\n",
    "        bestRouteIndex = rankRoutes(pop)[0][0]\n",
    "        bestRoute = pop[bestRouteIndex]\n",
    "        \n",
    "        # Create a DataFrame to plot the route \n",
    "        xlist = []\n",
    "        ylist = []\n",
    "        for j in range(len(bestRoute)):\n",
    "            xlist.append(bestRoute[j].x) # We use .x and .y because the object is of class City \n",
    "            ylist.append(bestRoute[j].y)\n",
    "        df = pd.DataFrame()\n",
    "        df[\"x\"] = xlist\n",
    "        df[\"y\"] = ylist\n",
    "        \n",
    "        # Plot the route\n",
    "        plt.title(\"Distance = \" + str(round(1 / rankRoutes(pop)[0][1])))\n",
    "        plt.scatter(x=df[\"x\"], y=df[\"y\"])\n",
    "        plt.arrow(xlist[-1], ylist[-1], (xlist[0] - xlist[-1]), (ylist[0] - ylist[-1]))\n",
    "        for k in range(0, len(xlist)-1):\n",
    "            plt.arrow(xlist[k], ylist[k], (xlist[k+1] - xlist[k]), (ylist[k+1] - ylist[k]))\n",
    "        \n",
    "        fig.savefig(path.join(outpath,\"generation{0}.png\".format(i)))\n",
    "        fig.clear()\n",
    "        \n",
    "        # Last plot to display result\n",
    "        plt.title(\"Distance = \" + str(round(1 / rankRoutes(pop)[0][1])))\n",
    "        plt.scatter(x=df[\"x\"], y=df[\"y\"])\n",
    "        plt.arrow(xlist[-1], ylist[-1], (xlist[0] - xlist[-1]), (ylist[0] - ylist[-1]))\n",
    "        for k in range(0, len(xlist)-1):\n",
    "            plt.arrow(xlist[k], ylist[k], (xlist[k+1] - xlist[k]), (ylist[k+1] - ylist[k]))\n",
    "    return print(\"bestRoute:\",bestRoute)"
   ]
  },
  {
   "cell_type": "code",
   "execution_count": 324,
   "metadata": {},
   "outputs": [
    {
     "name": "stdout",
     "output_type": "stream",
     "text": [
      "[(26,169), (152,51), (99,89), (130,157), (18,5), (167,86), (152,0), (89,144), (45,189), (180,6), (5,108), (187,76), (43,84), (5,44), (87,99), (46,46), (43,91), (57,4), (167,111), (128,37), (198,171), (24,66), (144,142), (187,84), (166,134)]\n"
     ]
    }
   ],
   "source": [
    "cityList = []\n",
    "random.seed(1)\n",
    "for i in range(0,25):\n",
    "    cityList.append(City(x=int(random.random() * 200), y=int(random.random() * 200)))\n",
    "print(cityList)"
   ]
  },
  {
   "cell_type": "code",
   "execution_count": 325,
   "metadata": {},
   "outputs": [
    {
     "name": "stdout",
     "output_type": "stream",
     "text": [
      "Initial distance: 2329.6554890196217\n",
      "bestRoute: [(166,134), (144,142), (130,157), (198,171), (187,84), (187,76), (167,86), (99,89), (87,99), (89,144), (45,189), (26,169), (5,108), (43,91), (43,84), (46,46), (24,66), (5,44), (18,5), (57,4), (128,37), (152,0), (180,6), (152,51), (167,111)]\n"
     ]
    },
    {
     "data": {
      "image/png": "[encoded data removed]",
      "text/plain": [
       "<Figure size 432x288 with 1 Axes>"
      ]
     },
     "metadata": {
      "needs_background": "light"
     },
     "output_type": "display_data"
    }
   ],
   "source": [
    "geneticAlgorithm(population=cityList, popSize=100, eliteSize=20, mutationRate=0.01, generations=500)"
   ]
  },
  {
   "cell_type": "code",
   "execution_count": null,
   "metadata": {},
   "outputs": [],
   "source": [
    "def geneticAlgorithmPlot(population, popSize, eliteSize, mutationRate, generations):\n",
    "    pop = initialPopulation(popSize, population)\n",
    "    progress = []\n",
    "    progress.append(1 / rankRoutes(pop)[0][1])\n",
    "    \n",
    "    for i in range(0, generations):\n",
    "        pop = nextGeneration(pop, eliteSize, mutationRate)\n",
    "        progress.append(1 / rankRoutes(pop)[0][1])\n",
    "    \n",
    "    plt.plot(progress)\n",
    "    plt.ylabel('Distance')\n",
    "    plt.xlabel('Generation')\n",
    "    plt.show()"
   ]
  },
  {
   "cell_type": "code",
   "execution_count": null,
   "metadata": {},
   "outputs": [],
   "source": [
    "geneticAlgorithmPlot(population=cityList, popSize=100, eliteSize=20, mutationRate=0.01, generations=500)"
   ]
  }
 ],
 "metadata": {
  "kernelspec": {
   "display_name": "Python 3",
   "language": "python",
   "name": "python3"
  },
  "language_info": {
   "codemirror_mode": {
    "name": "ipython",
    "version": 3
   },
   "file_extension": ".py",
   "mimetype": "text/x-python",
   "name": "python",
   "nbconvert_exporter": "python",
   "pygments_lexer": "ipython3",
   "version": "3.7.7"
  },
  "varInspector": {
   "cols": {
    "lenName": 16,
    "lenType": 16,
    "lenVar": 40
   },
   "kernels_config": {
    "python": {
     "delete_cmd_postfix": "",
     "delete_cmd_prefix": "del ",
     "library": "var_list.py",
     "varRefreshCmd": "print(var_dic_list())"
    },
    "r": {
     "delete_cmd_postfix": ") ",
     "delete_cmd_prefix": "rm(",
     "library": "var_list.r",
     "varRefreshCmd": "cat(var_dic_list()) "
    }
   },
   "types_to_exclude": [
    "module",
    "function",
    "builtin_function_or_method",
    "instance",
    "_Feature"
   ],
   "window_display": false
  }
 },
 "nbformat": 4,
 "nbformat_minor": 4
}
